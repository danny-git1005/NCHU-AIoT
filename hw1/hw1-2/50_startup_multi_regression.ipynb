{
  "cells": [
    {
      "cell_type": "markdown",
      "metadata": {},
      "source": [
        "Step 1: Import the necessary libraries for data manipulation and model building."
      ]
    },
    {
      "cell_type": "code",
      "execution_count": 1,
      "metadata": {
        "id": "xGNoXRJYbDXC"
      },
      "outputs": [],
      "source": [
        "import pandas as pd\n",
        "import numpy as np\n",
        "from sklearn.model_selection import train_test_split\n",
        "from sklearn.linear_model import Lasso\n",
        "from sklearn.metrics import mean_squared_error, mean_absolute_error, r2_score\n",
        "from sklearn.preprocessing import LabelEncoder, OneHotEncoder\n",
        "import matplotlib.pyplot as plt"
      ]
    },
    {
      "cell_type": "markdown",
      "metadata": {},
      "source": [
        "Step 2: Load the dataset from the 'train.csv' file and display the first few rows to explore the data."
      ]
    },
    {
      "cell_type": "code",
      "execution_count": 2,
      "metadata": {},
      "outputs": [
        {
          "name": "stdout",
          "output_type": "stream",
          "text": [
            "   R&D Spend  Administration  Marketing Spend       State     Profit\n",
            "0  165349.20       136897.80        471784.10    New York  192261.83\n",
            "1  162597.70       151377.59        443898.53  California  191792.06\n",
            "2  153441.51       101145.55        407934.54     Florida  191050.39\n",
            "3  144372.41       118671.85        383199.62    New York  182901.99\n",
            "4  142107.34        91391.77        366168.42     Florida  166187.94\n"
          ]
        }
      ],
      "source": [
        "url = \"https://gist.githubusercontent.com/GaneshSparkz/b5662effbdae8746f7f7d8ed70c42b2d/raw/faf8b1a0d58e251f48a647d3881e7a960c3f0925/50_Startups.csv\"\n",
        "data = pd.read_csv(url)\n",
        "print(data.head())"
      ]
    },
    {
      "cell_type": "markdown",
      "metadata": {},
      "source": [
        "Step 3: Preprocess the data by separating the features (X) and the target variable (y) and use one-hot encoder to deal with the data in row \"State\". Split the data into training and testing sets using the train_test_split function with a test size of 20% and a random state of 42."
      ]
    },
    {
      "cell_type": "code",
      "execution_count": 3,
      "metadata": {},
      "outputs": [
        {
          "name": "stderr",
          "output_type": "stream",
          "text": [
            "c:\\Users\\danny\\AppData\\Local\\Programs\\Python\\Python310\\lib\\site-packages\\sklearn\\preprocessing\\_encoders.py:828: FutureWarning: `sparse` was renamed to `sparse_output` in version 1.2 and will be removed in 1.4. `sparse_output` is ignored unless you leave `sparse` to its default value.\n",
            "  warnings.warn(\n"
          ]
        }
      ],
      "source": [
        "label_encoder = LabelEncoder()\n",
        "data['State'] = label_encoder.fit_transform(data['State'])\n",
        "onehot_encoder = OneHotEncoder(sparse=False)\n",
        "encoded_state = onehot_encoder.fit_transform(data[['State']])\n",
        "state_df = pd.DataFrame(encoded_state, columns=['State_' + str(int(i)) for i in range(encoded_state.shape[1])])\n",
        "data = pd.concat([data, state_df], axis=1)\n",
        "data.drop(['State'], axis=1, inplace=True)\n",
        "\n",
        "X = data.drop(['Profit'], axis=1)\n",
        "y = data['Profit']\n",
        "\n",
        "# Split the data into training and testing sets\n",
        "X_train, X_test, y_train, y_test = train_test_split(X, y, test_size=0.2, random_state=42)"
      ]
    },
    {
      "cell_type": "markdown",
      "metadata": {},
      "source": [
        "Step 4: Use Lasso linear regression model to train it using the training data (X_train and Y_train) and list the MSE, MAE, R2 for best model using different number of variables. Make a table to list the result, and the name of variables.\n"
      ]
    },
    {
      "cell_type": "code",
      "execution_count": 4,
      "metadata": {},
      "outputs": [],
      "source": [
        "# Step 4: Train Lasso linear regression model with different numbers of variables\n",
        "results = []\n",
        "models = []  # Store all models\n",
        "\n",
        "for num_features in range(1, X_train.shape[1] + 1):\n",
        "    model = Lasso(alpha=1.0)  # You can adjust the alpha value as needed\n",
        "    model.fit(X_train.iloc[:, :num_features], y_train)\n",
        "    y_pred = model.predict(X_test.iloc[:, :num_features])\n",
        "    mse = mean_squared_error(y_test, y_pred)\n",
        "    mae = mean_absolute_error(y_test, y_pred)\n",
        "    r2 = r2_score(y_test, y_pred)\n",
        "    results.append((num_features, X_train.columns[:num_features].tolist(), mse, mae, r2))\n",
        "\n",
        "# Create a DataFrame to display the results\n",
        "result_df = pd.DataFrame(results, columns=['Num Features', 'Selected Features', 'MSE', 'MAE', 'R2'])"
      ]
    },
    {
      "cell_type": "markdown",
      "metadata": {},
      "source": [
        "Step 5: Make predictions on the testing data (X_test) using the trained model. Calculate the mean squared error (MSE, MAE, R2) between the predicted values and the actual target values (y_test) using the mean_squared_error function from sklearn.metrics. Print the calculated MSE, MAE, R2."
      ]
    },
    {
      "cell_type": "code",
      "execution_count": 5,
      "metadata": {
        "colab": {
          "base_uri": "https://localhost:8080/"
        },
        "id": "HJQAq8Mdazk7",
        "outputId": "78faa009-7447-4e23-8c3b-8ba0725fae3c"
      },
      "outputs": [
        {
          "name": "stdout",
          "output_type": "stream",
          "text": [
            "Results for Different Numbers of Variables:\n",
            "   Num Features                                  Selected Features  \\\n",
            "0             1                                        [R&D Spend]   \n",
            "1             2                        [R&D Spend, Administration]   \n",
            "2             3       [R&D Spend, Administration, Marketing Spend]   \n",
            "3             4  [R&D Spend, Administration, Marketing Spend, S...   \n",
            "4             5  [R&D Spend, Administration, Marketing Spend, S...   \n",
            "5             6  [R&D Spend, Administration, Marketing Spend, S...   \n",
            "\n",
            "            MSE          MAE        R2  \n",
            "0  5.951096e+07  6077.363303  0.926511  \n",
            "1  8.376413e+07  7181.327116  0.896561  \n",
            "2  8.092632e+07  6979.152235  0.900065  \n",
            "3  8.118231e+07  6974.432916  0.899749  \n",
            "4  8.200419e+07  6961.570071  0.898734  \n",
            "5  8.200419e+07  6961.570071  0.898734  \n",
            "\n",
            "Best Model (Minimum MSE):\n",
            "Number of Features: 1\n",
            "Selected Features: ['R&D Spend']\n",
            "Best MSE: 59510962.81867258\n",
            "Best MAE: 6077.363302743909\n",
            "Best R2: 0.9265108109208674\n"
          ]
        }
      ],
      "source": [
        "best_model = result_df.loc[result_df['MSE'].idxmin()]\n",
        "best_num_features = best_model['Num Features']\n",
        "best_features = best_model['Selected Features']\n",
        "best_mse = best_model['MSE']\n",
        "best_mae = best_model['MAE']\n",
        "best_r2 = best_model['R2']\n",
        "\n",
        "\n",
        "print(\"Results for Different Numbers of Variables:\")\n",
        "print(result_df)\n",
        "\n",
        "print(\"\\nBest Model (Minimum MSE):\")\n",
        "print(f\"Number of Features: {best_num_features}\")\n",
        "print(f\"Selected Features: {best_features}\")\n",
        "print(f\"Best MSE: {best_mse}\")\n",
        "print(f\"Best MAE: {best_mae}\")\n",
        "print(f\"Best R2: {best_r2}\")\n"
      ]
    },
    {
      "cell_type": "code",
      "execution_count": null,
      "metadata": {},
      "outputs": [],
      "source": []
    }
  ],
  "metadata": {
    "colab": {
      "provenance": []
    },
    "kernelspec": {
      "display_name": "Python 3",
      "name": "python3"
    },
    "language_info": {
      "codemirror_mode": {
        "name": "ipython",
        "version": 3
      },
      "file_extension": ".py",
      "mimetype": "text/x-python",
      "name": "python",
      "nbconvert_exporter": "python",
      "pygments_lexer": "ipython3",
      "version": "3.10.9"
    }
  },
  "nbformat": 4,
  "nbformat_minor": 0
}
